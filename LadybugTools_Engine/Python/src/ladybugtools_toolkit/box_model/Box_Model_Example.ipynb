{
 "cells": [
  {
   "cell_type": "code",
   "execution_count": 8,
   "metadata": {},
   "outputs": [
    {
     "name": "stdout",
     "output_type": "stream",
     "text": [
      "The autoreload extension is already loaded. To reload it, use:\n",
      "  %reload_ext autoreload\n"
     ]
    }
   ],
   "source": [
    "%load_ext autoreload\n",
    "%autoreload 2\n",
    "\n",
    "from ladybugtools_toolkit.box_model.box_model import BoxModel, EnergySettings, EnergySimulation, RecipeSettings, BoxModelFabricProperties, PeopleLoad, LightingLoad, ElectricEquipmentLoad, InfiltrationLoad, SetpointProgram\n",
    "from honeybee_energy.programtype import ProgramType\n",
    "from ladybug.sql import SQLiteResult\n",
    "from honeybee_energy.result.loadbalance import LoadBalance"
   ]
  },
  {
   "cell_type": "code",
   "execution_count": 3,
   "metadata": {},
   "outputs": [],
   "source": [
    "epw_path = r\"C:\\Program Files\\IES\\Shared Content\\Weather\\GBR_ENG_London.Wea.Ctr-St.James.Park.037700_TMYx.2004-2018.epw\"\n",
    "folder = r\"C:\\Users\\cbrooker\\Desktop\\Box_Model\\Code_Testing\"\n",
    "\n",
    "box_model = BoxModel(epw = epw_path)"
   ]
  },
  {
   "cell_type": "code",
   "execution_count": 4,
   "metadata": {},
   "outputs": [],
   "source": [
    "bm_construct_set = BoxModelFabricProperties(epw = epw_path).construction_set\n",
    "box_model = BoxModel(epw = epw_path, name = \"Test\",\n",
    "                        target_sill_height= 0, target_window_height= 2.5, bay_width= 3, count_bays= 10, depth= 10,\n",
    "                        facade_azimuth_angle= 90,\n",
    "                        sensor_grid_bay_count= 2,\n",
    "                        construct_set= bm_construct_set,\n",
    "                        modifier_set= bm_construct_set.to_radiance_visible_interior())\n",
    "bm_program_type = ProgramType(identifier='BM_program_type',\n",
    "                            people = PeopleLoad().load,\n",
    "                            lighting= LightingLoad().load,\n",
    "                            electric_equipment= ElectricEquipmentLoad().load,\n",
    "                            infiltration= InfiltrationLoad(hb_model = box_model.model, ach = 0.1).load,\n",
    "                            setpoint= SetpointProgram().setpoint,\n",
    "                            ventilation= None\n",
    "                            )\n",
    "box_model.program_type = bm_program_type\n",
    "\n",
    "simulation = EnergySimulation(model = box_model, epw = box_model.epw, folder = folder,\n",
    "                                simulation_parameters= EnergySettings().simulation_parameters())\n",
    "\n",
    "results = simulation.simulate()"
   ]
  },
  {
   "cell_type": "code",
   "execution_count": null,
   "metadata": {},
   "outputs": [],
   "source": [
    "sql_obj.run_periods"
   ]
  },
  {
   "cell_type": "code",
   "execution_count": null,
   "metadata": {},
   "outputs": [],
   "source": [
    "sql_obj.data_collections_by_output_name('Zone Mean Air Temperature')"
   ]
  },
  {
   "cell_type": "code",
   "execution_count": null,
   "metadata": {},
   "outputs": [],
   "source": [
    "# Radiance\n",
    "recipe_settings = RecipeSettings(folder = folder)"
   ]
  }
 ],
 "metadata": {
  "kernelspec": {
   "display_name": "LadybugTools_Toolkit",
   "language": "python",
   "name": "python3"
  },
  "language_info": {
   "codemirror_mode": {
    "name": "ipython",
    "version": 3
   },
   "file_extension": ".py",
   "mimetype": "text/x-python",
   "name": "python",
   "nbconvert_exporter": "python",
   "pygments_lexer": "ipython3",
   "version": "3.7.9"
  },
  "orig_nbformat": 4
 },
 "nbformat": 4,
 "nbformat_minor": 2
}
